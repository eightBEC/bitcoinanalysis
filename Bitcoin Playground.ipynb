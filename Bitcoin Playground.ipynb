{
 "cells": [
  {
   "cell_type": "code",
   "execution_count": 1,
   "metadata": {
    "collapsed": true
   },
   "outputs": [],
   "source": [
    "import datetime\n",
    "import pytz\n",
    "import os\n",
    "import matplotlib\n",
    "import numpy as np \n",
    "import pandas as pd \n",
    "import seaborn as sns\n",
    "import matplotlib.pyplot as plt\n",
    "\n",
    "%matplotlib inline"
   ]
  },
  {
   "cell_type": "code",
   "execution_count": 2,
   "metadata": {},
   "outputs": [
    {
     "data": {
      "text/html": [
       "<div>\n",
       "<style>\n",
       "    .dataframe thead tr:only-child th {\n",
       "        text-align: right;\n",
       "    }\n",
       "\n",
       "    .dataframe thead th {\n",
       "        text-align: left;\n",
       "    }\n",
       "\n",
       "    .dataframe tbody tr th {\n",
       "        vertical-align: top;\n",
       "    }\n",
       "</style>\n",
       "<table border=\"1\" class=\"dataframe\">\n",
       "  <thead>\n",
       "    <tr style=\"text-align: right;\">\n",
       "      <th></th>\n",
       "      <th>Open</th>\n",
       "      <th>High</th>\n",
       "      <th>Low</th>\n",
       "      <th>Close</th>\n",
       "      <th>Volume_(BTC)</th>\n",
       "      <th>Volume_(Currency)</th>\n",
       "      <th>Weighted_Price</th>\n",
       "    </tr>\n",
       "    <tr>\n",
       "      <th>Timestamp</th>\n",
       "      <th></th>\n",
       "      <th></th>\n",
       "      <th></th>\n",
       "      <th></th>\n",
       "      <th></th>\n",
       "      <th></th>\n",
       "      <th></th>\n",
       "    </tr>\n",
       "  </thead>\n",
       "  <tbody>\n",
       "    <tr>\n",
       "      <th>2017-10-20 01:56:00</th>\n",
       "      <td>5690.88</td>\n",
       "      <td>5690.88</td>\n",
       "      <td>5690.88</td>\n",
       "      <td>5690.88</td>\n",
       "      <td>0.168941</td>\n",
       "      <td>961.421706</td>\n",
       "      <td>5690.880000</td>\n",
       "    </tr>\n",
       "    <tr>\n",
       "      <th>2017-10-20 01:57:00</th>\n",
       "      <td>5698.13</td>\n",
       "      <td>5704.10</td>\n",
       "      <td>5695.63</td>\n",
       "      <td>5704.10</td>\n",
       "      <td>2.311662</td>\n",
       "      <td>13174.852877</td>\n",
       "      <td>5699.300163</td>\n",
       "    </tr>\n",
       "    <tr>\n",
       "      <th>2017-10-20 01:58:00</th>\n",
       "      <td>5695.62</td>\n",
       "      <td>5695.64</td>\n",
       "      <td>5694.00</td>\n",
       "      <td>5695.64</td>\n",
       "      <td>0.129647</td>\n",
       "      <td>738.409647</td>\n",
       "      <td>5695.533637</td>\n",
       "    </tr>\n",
       "    <tr>\n",
       "      <th>2017-10-20 01:59:00</th>\n",
       "      <td>5700.39</td>\n",
       "      <td>5700.39</td>\n",
       "      <td>5698.69</td>\n",
       "      <td>5698.69</td>\n",
       "      <td>0.085426</td>\n",
       "      <td>486.929798</td>\n",
       "      <td>5700.004031</td>\n",
       "    </tr>\n",
       "    <tr>\n",
       "      <th>2017-10-20 02:00:00</th>\n",
       "      <td>5700.00</td>\n",
       "      <td>5700.00</td>\n",
       "      <td>5698.68</td>\n",
       "      <td>5700.00</td>\n",
       "      <td>0.116847</td>\n",
       "      <td>665.913860</td>\n",
       "      <td>5699.046463</td>\n",
       "    </tr>\n",
       "  </tbody>\n",
       "</table>\n",
       "</div>"
      ],
      "text/plain": [
       "                        Open     High      Low    Close  Volume_(BTC)  \\\n",
       "Timestamp                                                               \n",
       "2017-10-20 01:56:00  5690.88  5690.88  5690.88  5690.88      0.168941   \n",
       "2017-10-20 01:57:00  5698.13  5704.10  5695.63  5704.10      2.311662   \n",
       "2017-10-20 01:58:00  5695.62  5695.64  5694.00  5695.64      0.129647   \n",
       "2017-10-20 01:59:00  5700.39  5700.39  5698.69  5698.69      0.085426   \n",
       "2017-10-20 02:00:00  5700.00  5700.00  5698.68  5700.00      0.116847   \n",
       "\n",
       "                     Volume_(Currency)  Weighted_Price  \n",
       "Timestamp                                               \n",
       "2017-10-20 01:56:00         961.421706     5690.880000  \n",
       "2017-10-20 01:57:00       13174.852877     5699.300163  \n",
       "2017-10-20 01:58:00         738.409647     5695.533637  \n",
       "2017-10-20 01:59:00         486.929798     5700.004031  \n",
       "2017-10-20 02:00:00         665.913860     5699.046463  "
      ]
     },
     "execution_count": 2,
     "metadata": {},
     "output_type": "execute_result"
    }
   ],
   "source": [
    "# data preprocessing code from https://www.kaggle.com/smitad/bitcoin-trading-strategy-simulation\n",
    "#define a conversion function for the native timestamps in the csv file\n",
    "def dateparse (time_in_secs):    \n",
    "    return datetime.datetime.fromtimestamp(float(time_in_secs))\n",
    "\n",
    "data = pd.read_csv('../../datasets/bitcoin/bitstampUSD_1-min_data_2012-01-01_to_2017-10-20.csv', parse_dates=True, date_parser=dateparse, index_col=[0])\n",
    "data_no_idx = pd.read_csv('../../datasets/bitcoin/bitstampUSD_1-min_data_2012-01-01_to_2017-10-20.csv', parse_dates=[0], date_parser=dateparse)\n",
    "data.tail()"
   ]
  },
  {
   "cell_type": "code",
   "execution_count": 3,
   "metadata": {},
   "outputs": [
    {
     "data": {
      "image/png": "[encoded data removed]",
      "text/plain": [
       "<matplotlib.figure.Figure at 0x191eb3c8>"
      ]
     },
     "metadata": {},
     "output_type": "display_data"
    }
   ],
   "source": [
    "# Plot BTC opening price\n",
    "plt.plot(data.index,data['Open'])\n",
    "\n",
    "plt.show()\n"
   ]
  },
  {
   "cell_type": "code",
   "execution_count": 4,
   "metadata": {},
   "outputs": [
    {
     "data": {
      "image/png": "[encoded data removed]",
      "text/plain": [
       "<matplotlib.figure.Figure at 0x1e9fe7f0>"
      ]
     },
     "metadata": {},
     "output_type": "display_data"
    }
   ],
   "source": [
    "# Plot BTC trading volume (BTC)\n",
    "plt.plot(data.index,data['Volume_(BTC)'])\n",
    "\n",
    "plt.show()"
   ]
  },
  {
   "cell_type": "code",
   "execution_count": 5,
   "metadata": {},
   "outputs": [
    {
     "data": {
      "image/png": "[encoded data removed]",
      "text/plain": [
       "<matplotlib.figure.Figure at 0x191ebb70>"
      ]
     },
     "metadata": {},
     "output_type": "display_data"
    }
   ],
   "source": [
    "# Plot BTC trading volume (Currency)\n",
    "plt.plot(data.index,data['Volume_(Currency)'])\n",
    "\n",
    "plt.show()"
   ]
  },
  {
   "cell_type": "code",
   "execution_count": 6,
   "metadata": {},
   "outputs": [
    {
     "data": {
      "text/html": [
       "<div>\n",
       "<style>\n",
       "    .dataframe thead tr:only-child th {\n",
       "        text-align: right;\n",
       "    }\n",
       "\n",
       "    .dataframe thead th {\n",
       "        text-align: left;\n",
       "    }\n",
       "\n",
       "    .dataframe tbody tr th {\n",
       "        vertical-align: top;\n",
       "    }\n",
       "</style>\n",
       "<table border=\"1\" class=\"dataframe\">\n",
       "  <thead>\n",
       "    <tr style=\"text-align: right;\">\n",
       "      <th></th>\n",
       "      <th>Timestamp</th>\n",
       "      <th>Open</th>\n",
       "      <th>High</th>\n",
       "      <th>Low</th>\n",
       "      <th>Close</th>\n",
       "      <th>Volume_(BTC)</th>\n",
       "      <th>Volume_(Currency)</th>\n",
       "      <th>Weighted_Price</th>\n",
       "    </tr>\n",
       "  </thead>\n",
       "  <tbody>\n",
       "    <tr>\n",
       "      <th>294</th>\n",
       "      <td>2017-08-21</td>\n",
       "      <td>4289.50</td>\n",
       "      <td>4289.50</td>\n",
       "      <td>4286.10</td>\n",
       "      <td>4289.33</td>\n",
       "      <td>3.626123</td>\n",
       "      <td>15552.522398</td>\n",
       "      <td>4289.022048</td>\n",
       "    </tr>\n",
       "    <tr>\n",
       "      <th>295</th>\n",
       "      <td>2017-08-28</td>\n",
       "      <td>4029.93</td>\n",
       "      <td>4029.93</td>\n",
       "      <td>4012.55</td>\n",
       "      <td>4026.93</td>\n",
       "      <td>3.082471</td>\n",
       "      <td>12379.070303</td>\n",
       "      <td>4015.957181</td>\n",
       "    </tr>\n",
       "    <tr>\n",
       "      <th>296</th>\n",
       "      <td>2017-09-04</td>\n",
       "      <td>4377.82</td>\n",
       "      <td>4381.34</td>\n",
       "      <td>4376.03</td>\n",
       "      <td>4381.34</td>\n",
       "      <td>54.684554</td>\n",
       "      <td>239419.785010</td>\n",
       "      <td>4378.197596</td>\n",
       "    </tr>\n",
       "    <tr>\n",
       "      <th>297</th>\n",
       "      <td>2017-09-11</td>\n",
       "      <td>4378.76</td>\n",
       "      <td>4378.76</td>\n",
       "      <td>4355.42</td>\n",
       "      <td>4355.76</td>\n",
       "      <td>7.730152</td>\n",
       "      <td>33788.732966</td>\n",
       "      <td>4371.031083</td>\n",
       "    </tr>\n",
       "    <tr>\n",
       "      <th>298</th>\n",
       "      <td>2017-09-18</td>\n",
       "      <td>4192.18</td>\n",
       "      <td>4192.18</td>\n",
       "      <td>4192.16</td>\n",
       "      <td>4192.18</td>\n",
       "      <td>0.083066</td>\n",
       "      <td>348.226257</td>\n",
       "      <td>4192.176661</td>\n",
       "    </tr>\n",
       "    <tr>\n",
       "      <th>299</th>\n",
       "      <td>2017-09-25</td>\n",
       "      <td>4073.00</td>\n",
       "      <td>4075.00</td>\n",
       "      <td>4069.38</td>\n",
       "      <td>4075.00</td>\n",
       "      <td>11.123117</td>\n",
       "      <td>45325.336822</td>\n",
       "      <td>4074.877279</td>\n",
       "    </tr>\n",
       "    <tr>\n",
       "      <th>300</th>\n",
       "      <td>2017-10-02</td>\n",
       "      <td>3954.96</td>\n",
       "      <td>3962.21</td>\n",
       "      <td>3949.39</td>\n",
       "      <td>3949.39</td>\n",
       "      <td>92.318867</td>\n",
       "      <td>365403.571970</td>\n",
       "      <td>3958.059531</td>\n",
       "    </tr>\n",
       "    <tr>\n",
       "      <th>301</th>\n",
       "      <td>2017-10-09</td>\n",
       "      <td>4374.45</td>\n",
       "      <td>4374.46</td>\n",
       "      <td>4360.05</td>\n",
       "      <td>4374.40</td>\n",
       "      <td>25.531922</td>\n",
       "      <td>111498.106110</td>\n",
       "      <td>4367.008004</td>\n",
       "    </tr>\n",
       "    <tr>\n",
       "      <th>302</th>\n",
       "      <td>2017-10-16</td>\n",
       "      <td>4798.20</td>\n",
       "      <td>4817.60</td>\n",
       "      <td>4798.20</td>\n",
       "      <td>4810.04</td>\n",
       "      <td>5.931340</td>\n",
       "      <td>28519.437799</td>\n",
       "      <td>4808.262480</td>\n",
       "    </tr>\n",
       "    <tr>\n",
       "      <th>303</th>\n",
       "      <td>2017-10-23</td>\n",
       "      <td>5703.51</td>\n",
       "      <td>5705.00</td>\n",
       "      <td>5697.45</td>\n",
       "      <td>5704.99</td>\n",
       "      <td>2.532021</td>\n",
       "      <td>14439.634029</td>\n",
       "      <td>5702.810644</td>\n",
       "    </tr>\n",
       "  </tbody>\n",
       "</table>\n",
       "</div>"
      ],
      "text/plain": [
       "     Timestamp     Open     High      Low    Close  Volume_(BTC)  \\\n",
       "294 2017-08-21  4289.50  4289.50  4286.10  4289.33      3.626123   \n",
       "295 2017-08-28  4029.93  4029.93  4012.55  4026.93      3.082471   \n",
       "296 2017-09-04  4377.82  4381.34  4376.03  4381.34     54.684554   \n",
       "297 2017-09-11  4378.76  4378.76  4355.42  4355.76      7.730152   \n",
       "298 2017-09-18  4192.18  4192.18  4192.16  4192.18      0.083066   \n",
       "299 2017-09-25  4073.00  4075.00  4069.38  4075.00     11.123117   \n",
       "300 2017-10-02  3954.96  3962.21  3949.39  3949.39     92.318867   \n",
       "301 2017-10-09  4374.45  4374.46  4360.05  4374.40     25.531922   \n",
       "302 2017-10-16  4798.20  4817.60  4798.20  4810.04      5.931340   \n",
       "303 2017-10-23  5703.51  5705.00  5697.45  5704.99      2.532021   \n",
       "\n",
       "     Volume_(Currency)  Weighted_Price  \n",
       "294       15552.522398     4289.022048  \n",
       "295       12379.070303     4015.957181  \n",
       "296      239419.785010     4378.197596  \n",
       "297       33788.732966     4371.031083  \n",
       "298         348.226257     4192.176661  \n",
       "299       45325.336822     4074.877279  \n",
       "300      365403.571970     3958.059531  \n",
       "301      111498.106110     4367.008004  \n",
       "302       28519.437799     4808.262480  \n",
       "303       14439.634029     5702.810644  "
      ]
     },
     "execution_count": 6,
     "metadata": {},
     "output_type": "execute_result"
    }
   ],
   "source": [
    "# create valid date range\n",
    "start = datetime.datetime(2012, 1, 1, 0, 0, 0, 0, pytz.UTC)\n",
    "end = datetime.datetime(2017, 10, 17, 20, 0, 0, 0, pytz.UTC)\n",
    "\n",
    "# find rows between start and end time and find the first row (00:00 monday morning)\n",
    "weekly_rows = data_no_idx[(data_no_idx['Timestamp'] >= start) & (data_no_idx['Timestamp'] <= end)].groupby([pd.Grouper(key='Timestamp', freq='W-MON')]).first().reset_index()\n",
    "weekly_rows.tail(10)"
   ]
  },
  {
   "cell_type": "code",
   "execution_count": 7,
   "metadata": {},
   "outputs": [
    {
     "data": {
      "text/html": [
       "<div>\n",
       "<style>\n",
       "    .dataframe thead tr:only-child th {\n",
       "        text-align: right;\n",
       "    }\n",
       "\n",
       "    .dataframe thead th {\n",
       "        text-align: left;\n",
       "    }\n",
       "\n",
       "    .dataframe tbody tr th {\n",
       "        vertical-align: top;\n",
       "    }\n",
       "</style>\n",
       "<table border=\"1\" class=\"dataframe\">\n",
       "  <thead>\n",
       "    <tr style=\"text-align: right;\">\n",
       "      <th></th>\n",
       "      <th>Open</th>\n",
       "      <th>High</th>\n",
       "      <th>Low</th>\n",
       "      <th>Close</th>\n",
       "      <th>Volume_(BTC)</th>\n",
       "      <th>Volume_(Currency)</th>\n",
       "      <th>Weighted_Price</th>\n",
       "      <th>Day of Week</th>\n",
       "      <th>Month</th>\n",
       "    </tr>\n",
       "    <tr>\n",
       "      <th>Timestamp</th>\n",
       "      <th></th>\n",
       "      <th></th>\n",
       "      <th></th>\n",
       "      <th></th>\n",
       "      <th></th>\n",
       "      <th></th>\n",
       "      <th></th>\n",
       "      <th></th>\n",
       "      <th></th>\n",
       "    </tr>\n",
       "  </thead>\n",
       "  <tbody>\n",
       "    <tr>\n",
       "      <th>2017-10-20 01:56:00</th>\n",
       "      <td>5690.88</td>\n",
       "      <td>5690.88</td>\n",
       "      <td>5690.88</td>\n",
       "      <td>5690.88</td>\n",
       "      <td>0.168941</td>\n",
       "      <td>961.421706</td>\n",
       "      <td>5690.880000</td>\n",
       "      <td>Fri</td>\n",
       "      <td>10</td>\n",
       "    </tr>\n",
       "    <tr>\n",
       "      <th>2017-10-20 01:57:00</th>\n",
       "      <td>5698.13</td>\n",
       "      <td>5704.10</td>\n",
       "      <td>5695.63</td>\n",
       "      <td>5704.10</td>\n",
       "      <td>2.311662</td>\n",
       "      <td>13174.852877</td>\n",
       "      <td>5699.300163</td>\n",
       "      <td>Fri</td>\n",
       "      <td>10</td>\n",
       "    </tr>\n",
       "    <tr>\n",
       "      <th>2017-10-20 01:58:00</th>\n",
       "      <td>5695.62</td>\n",
       "      <td>5695.64</td>\n",
       "      <td>5694.00</td>\n",
       "      <td>5695.64</td>\n",
       "      <td>0.129647</td>\n",
       "      <td>738.409647</td>\n",
       "      <td>5695.533637</td>\n",
       "      <td>Fri</td>\n",
       "      <td>10</td>\n",
       "    </tr>\n",
       "    <tr>\n",
       "      <th>2017-10-20 01:59:00</th>\n",
       "      <td>5700.39</td>\n",
       "      <td>5700.39</td>\n",
       "      <td>5698.69</td>\n",
       "      <td>5698.69</td>\n",
       "      <td>0.085426</td>\n",
       "      <td>486.929798</td>\n",
       "      <td>5700.004031</td>\n",
       "      <td>Fri</td>\n",
       "      <td>10</td>\n",
       "    </tr>\n",
       "    <tr>\n",
       "      <th>2017-10-20 02:00:00</th>\n",
       "      <td>5700.00</td>\n",
       "      <td>5700.00</td>\n",
       "      <td>5698.68</td>\n",
       "      <td>5700.00</td>\n",
       "      <td>0.116847</td>\n",
       "      <td>665.913860</td>\n",
       "      <td>5699.046463</td>\n",
       "      <td>Fri</td>\n",
       "      <td>10</td>\n",
       "    </tr>\n",
       "  </tbody>\n",
       "</table>\n",
       "</div>"
      ],
      "text/plain": [
       "                        Open     High      Low    Close  Volume_(BTC)  \\\n",
       "Timestamp                                                               \n",
       "2017-10-20 01:56:00  5690.88  5690.88  5690.88  5690.88      0.168941   \n",
       "2017-10-20 01:57:00  5698.13  5704.10  5695.63  5704.10      2.311662   \n",
       "2017-10-20 01:58:00  5695.62  5695.64  5694.00  5695.64      0.129647   \n",
       "2017-10-20 01:59:00  5700.39  5700.39  5698.69  5698.69      0.085426   \n",
       "2017-10-20 02:00:00  5700.00  5700.00  5698.68  5700.00      0.116847   \n",
       "\n",
       "                     Volume_(Currency)  Weighted_Price Day of Week  Month  \n",
       "Timestamp                                                                  \n",
       "2017-10-20 01:56:00         961.421706     5690.880000         Fri     10  \n",
       "2017-10-20 01:57:00       13174.852877     5699.300163         Fri     10  \n",
       "2017-10-20 01:58:00         738.409647     5695.533637         Fri     10  \n",
       "2017-10-20 01:59:00         486.929798     5700.004031         Fri     10  \n",
       "2017-10-20 02:00:00         665.913860     5699.046463         Fri     10  "
      ]
     },
     "execution_count": 7,
     "metadata": {},
     "output_type": "execute_result"
    }
   ],
   "source": [
    "dayOfWeek={0:'Mon', 1:'Tue', 2:'Wed', 3:'Thu', 4:'Fri', 5:'Sat', 6:'Sun'}\n",
    "dayOrder = list(dayOfWeek.values())\n",
    "data['Day of Week'] = data.index.dayofweek\n",
    "data['Month'] = data.index.month\n",
    "data['Day of Week'] = data['Day of Week'].apply(lambda x: dayOfWeek[x])\n",
    "data.tail()"
   ]
  },
  {
   "cell_type": "code",
   "execution_count": 8,
   "metadata": {},
   "outputs": [
    {
     "data": {
      "text/plain": [
       "[<matplotlib.text.Text at 0x2ee47278>,\n",
       " <matplotlib.text.Text at 0x2ee54748>,\n",
       " <matplotlib.text.Text at 0x326eff98>,\n",
       " <matplotlib.text.Text at 0x2ee47978>,\n",
       " <matplotlib.text.Text at 0x2ee44c50>,\n",
       " <matplotlib.text.Text at 0x2b1777f0>,\n",
       " <matplotlib.text.Text at 0x326f5470>,\n",
       " <matplotlib.text.Text at 0x28889be0>,\n",
       " <matplotlib.text.Text at 0x2ee7a320>,\n",
       " <matplotlib.text.Text at 0x288a96a0>]"
      ]
     },
     "execution_count": 8,
     "metadata": {},
     "output_type": "execute_result"
    },
    {
     "data": {
      "image/png": "[encoded data removed]",
      "text/plain": [
       "<matplotlib.figure.Figure at 0x4b09400>"
      ]
     },
     "metadata": {},
     "output_type": "display_data"
    }
   ],
   "source": [
    "# find rows between start and end time and find the first row (00:00 monday morning)\n",
    "year_2017 = data['2017-01-01':'2017-12-31']\n",
    "\n",
    "#f, ((ax1, ax2), (ax3, ax4)) = plt.subplots(2, 2, sharex='col', sharey='row',figsize=(15,15))\n",
    "\n",
    "#weekly_vol_curr_avg = data_no_idx.groupby([pd.Grouper(key='Timestamp', freq='D')])\n",
    "##vol_curr_monthly_sum= year_2017.resample('M')['Volume_(Currency)'].sum()\n",
    "##vol_curr_monthly_count= year_2017.resample('M')['Volume_(Currency)'].count()\n",
    "##vol_curr_monthly_mean= year_2017.resample('M')['Volume_(Currency)'].mean()\n",
    "\n",
    "m = year_2017.groupby(pd.TimeGrouper(\"M\"))['Volume_(Currency)'].sum()\n",
    "m.index.month\n",
    "m.plot(kind='bar').set_xticklabels(m.index.month)\n",
    "#year_2017.pivot(index='Day of Week', columns='Month', values='Volume_(Currency)').plot(kind='bar')\n",
    "#weekdays_trading_vol = year_2017.groupby([pd.Grouper(key='Day of Week')])['Volume_(Currency)'].sum()\n",
    "#weekdays_trading_vol.loc[dayOrder].plot(kind='bar')\n",
    "\n"
   ]
  },
  {
   "cell_type": "code",
   "execution_count": 9,
   "metadata": {},
   "outputs": [
    {
     "data": {
      "text/plain": [
       "<matplotlib.axes._subplots.AxesSubplot at 0x26388d68>"
      ]
     },
     "execution_count": 9,
     "metadata": {},
     "output_type": "execute_result"
    },
    {
     "data": {
      "image/png": "[encoded data removed]",
      "text/plain": [
       "<matplotlib.figure.Figure at 0x2889f9e8>"
      ]
     },
     "metadata": {},
     "output_type": "display_data"
    }
   ],
   "source": [
    "# find indices with min value of that week\n",
    "idx2 = year_2017.groupby(pd.TimeGrouper(\"W-MON\"))['Close'].transform(min) == year_2017['Close']\n",
    "\n",
    "# remove duplicate day rows\n",
    "weekly_lows = year_2017[idx2].groupby(pd.TimeGrouper(\"D\")).first().reset_index()\n",
    "\n",
    "sns.countplot(x='Day of Week',data=weekly_lows, order=['Mon', 'Tue', 'Wed', 'Thu', 'Fri', 'Sat', 'Sun'])"
   ]
  },
  {
   "cell_type": "code",
   "execution_count": 173,
   "metadata": {},
   "outputs": [
    {
     "data": {
      "text/plain": [
       "<matplotlib.axes._subplots.AxesSubplot at 0x1a2274a8>"
      ]
     },
     "execution_count": 173,
     "metadata": {},
     "output_type": "execute_result"
    },
    {
     "data": {
      "image/png": "[encoded data removed]",
      "text/plain": [
       "<matplotlib.figure.Figure at 0x1a873588>"
      ]
     },
     "metadata": {},
     "output_type": "display_data"
    }
   ],
   "source": [
    "# find indices with min value of that week\n",
    "idx2 = year_2017.groupby(pd.TimeGrouper(\"W-MON\"))['High'].transform(max) == year_2017['High']\n",
    "\n",
    "# remove duplicate day rows\n",
    "weekly_lows = year_2017[idx2].groupby(pd.TimeGrouper(\"D\")).first().reset_index()\n",
    "\n",
    "sns.countplot(x='Day of Week',data=weekly_lows, order=['Mon', 'Tue', 'Wed', 'Thu', 'Fri', 'Sat', 'Sun'])"
   ]
  },
  {
   "cell_type": "code",
   "execution_count": 10,
   "metadata": {},
   "outputs": [
    {
     "name": "stdout",
     "output_type": "stream",
     "text": [
      "2017-01-02 00:00:00\n",
      "18232988.5605\n",
      "2017-01-09 00:00:00\n",
      "132585057.327\n",
      "2017-01-16 00:00:00\n",
      "80911651.6907\n",
      "2017-01-23 00:00:00\n",
      "57660233.001\n",
      "2017-01-30 00:00:00\n",
      "34410947.5783\n",
      "2017-02-06 00:00:00\n",
      "58999756.1524\n",
      "2017-02-13 00:00:00\n",
      "67158404.4194\n",
      "2017-02-20 00:00:00\n",
      "38433524.8766\n",
      "2017-02-27 00:00:00\n",
      "83379909.8764\n",
      "2017-03-06 00:00:00\n",
      "57674798.8587\n",
      "2017-03-13 00:00:00\n",
      "109897544.658\n",
      "2017-03-20 00:00:00\n",
      "97577787.6417\n",
      "2017-03-27 00:00:00\n",
      "85683000.1863\n",
      "2017-04-03 00:00:00\n",
      "71193701.0453\n",
      "2017-04-10 00:00:00\n",
      "50944209.632\n",
      "2017-04-17 00:00:00\n",
      "43924357.697\n",
      "2017-04-24 00:00:00\n",
      "45420982.4426\n",
      "2017-05-01 00:00:00\n",
      "63551392.633\n",
      "2017-05-08 00:00:00\n",
      "140993189.98\n",
      "2017-05-15 00:00:00\n",
      "160345724.664\n",
      "2017-05-22 00:00:00\n",
      "181845062.053\n",
      "2017-05-29 00:00:00\n",
      "352727061.797\n",
      "2017-06-05 00:00:00\n",
      "226121556.898\n",
      "2017-06-12 00:00:00\n",
      "315530147.021\n",
      "2017-06-19 00:00:00\n",
      "325592478.02\n",
      "2017-06-26 00:00:00\n",
      "251875278.976\n",
      "2017-07-03 00:00:00\n",
      "197896294.881\n",
      "2017-07-10 00:00:00\n",
      "165435441.547\n",
      "2017-07-17 00:00:00\n",
      "265754900.219\n",
      "2017-07-24 00:00:00\n",
      "336665851.216\n",
      "2017-07-31 00:00:00\n",
      "258526172.912\n",
      "2017-08-07 00:00:00\n",
      "220893095.369\n",
      "2017-08-14 00:00:00\n",
      "343181695.294\n",
      "2017-08-21 00:00:00\n",
      "424931359.734\n",
      "2017-08-28 00:00:00\n",
      "327963583.553\n",
      "2017-09-04 00:00:00\n",
      "448233669.828\n",
      "2017-09-11 00:00:00\n",
      "465246800.998\n",
      "2017-09-18 00:00:00\n",
      "715353872.592\n",
      "2017-09-25 00:00:00\n",
      "351716697.619\n",
      "2017-10-02 00:00:00\n",
      "295167873.841\n",
      "2017-10-09 00:00:00\n",
      "291126831.421\n",
      "2017-10-16 00:00:00\n",
      "526121191.212\n",
      "2017-10-23 00:00:00\n",
      "217120683.187\n"
     ]
    }
   ],
   "source": [
    "idx2 = year_2017.groupby(pd.TimeGrouper(\"W-MON\"))\n",
    "for name, group in idx2:\n",
    "    print(name)\n",
    "    print(group['Volume_(Currency)'].sum())"
   ]
  },
  {
   "cell_type": "code",
   "execution_count": null,
   "metadata": {
    "collapsed": true
   },
   "outputs": [],
   "source": []
  },
  {
   "cell_type": "code",
   "execution_count": null,
   "metadata": {
    "collapsed": true
   },
   "outputs": [],
   "source": []
  }
 ],
 "metadata": {
  "kernelspec": {
   "display_name": "Python 3",
   "language": "python",
   "name": "python3"
  },
  "language_info": {
   "codemirror_mode": {
    "name": "ipython",
    "version": 3
   },
   "file_extension": ".py",
   "mimetype": "text/x-python",
   "name": "python",
   "nbconvert_exporter": "python",
   "pygments_lexer": "ipython3",
   "version": "3.5.3"
  }
 },
 "nbformat": 4,
 "nbformat_minor": 2
}
